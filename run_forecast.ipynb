{
 "cells": [
  {
   "cell_type": "markdown",
   "metadata": {
    "id": "TQU-4m-_-qHv"
   },
   "source": [
    "# Datathon BCG GAMMA "
   ]
  },
  {
   "cell_type": "markdown",
   "metadata": {
    "id": "i34jAdmbAvom"
   },
   "source": [
    "### Librairies & Paramètres"
   ]
  },
  {
   "cell_type": "code",
   "execution_count": 1,
   "metadata": {
    "executionInfo": {
     "elapsed": 2252,
     "status": "ok",
     "timestamp": 1607703932189,
     "user": {
      "displayName": "Corentin Mary",
      "photoUrl": "",
      "userId": "05169774256575168334"
     },
     "user_tz": -60
    },
    "id": "Rkhj3wjEAQ4Y"
   },
   "outputs": [],
   "source": [
    "import pandas as pd\n",
    "import numpy as np\n",
    "from fbprophet import Prophet"
   ]
  },
  {
   "cell_type": "code",
   "execution_count": 2,
   "metadata": {
    "executionInfo": {
     "elapsed": 725,
     "status": "ok",
     "timestamp": 1607703935998,
     "user": {
      "displayName": "Corentin Mary",
      "photoUrl": "",
      "userId": "05169774256575168334"
     },
     "user_tz": -60
    },
    "id": "YLJyRDOaA_IK"
   },
   "outputs": [],
   "source": [
    "START_FORECAST = pd.Timestamp(\"2020-12-11 01:00:00\") # date de début de prédiction\n",
    "END_FORECAST = pd.Timestamp(\"2020-12-16 23:00:00\") # date de fin de prédiction\n",
    "\n",
    "PARAMS = { # paramètres à utiliser pour chaque time series\n",
    "    \"champs\": {\n",
    "        \"debit\": {\n",
    "            \"use_ext\": True,\n",
    "            \"seasonality\": \"additive\",\n",
    "            \"training_start\": pd.Timestamp(\"2020-09-01 00:00:00\")\n",
    "        },\n",
    "        \"taux\": {\n",
    "            \"use_ext\": True,\n",
    "            \"seasonality\": \"multiplicative\",\n",
    "            \"training_start\": pd.Timestamp(\"2020-01-01 00:00:00\")\n",
    "        }\n",
    "    },\n",
    "    \"conv\": {\n",
    "        \"debit\": {\n",
    "            \"use_ext\": True,\n",
    "            \"seasonality\": \"additive\",\n",
    "            \"training_start\": pd.Timestamp(\"2020-03-01 00:00:00\")\n",
    "        },\n",
    "        \"taux\": {\n",
    "            \"use_ext\": False,\n",
    "            \"seasonality\": \"multiplicative\",\n",
    "            \"training_start\": pd.Timestamp(\"2020-05-01 00:00:00\")\n",
    "        }\n",
    "    },\n",
    "    \"sts\": {\n",
    "        \"debit\": {\n",
    "            \"use_ext\": True,\n",
    "            \"seasonality\": \"additive\",\n",
    "            \"training_start\": pd.Timestamp(\"2020-03-01 00:00:00\")\n",
    "        },\n",
    "        \"taux\": {\n",
    "            \"use_ext\": True,\n",
    "            \"seasonality\": \"multiplicative\",\n",
    "            \"training_start\": pd.Timestamp(\"2020-03-01 00:00:00\")\n",
    "        }\n",
    "    }\n",
    "}"
   ]
  },
  {
   "cell_type": "markdown",
   "metadata": {
    "id": "KjW1elaULJgu"
   },
   "source": [
    "### Import des données"
   ]
  },
  {
   "cell_type": "markdown",
   "metadata": {},
   "source": [
    "#### En local"
   ]
  },
  {
   "cell_type": "code",
   "execution_count": 3,
   "metadata": {
    "executionInfo": {
     "elapsed": 610,
     "status": "ok",
     "timestamp": 1607703937992,
     "user": {
      "displayName": "Corentin Mary",
      "photoUrl": "",
      "userId": "05169774256575168334"
     },
     "user_tz": -60
    },
    "id": "GSi1iHWDLMYm"
   },
   "outputs": [],
   "source": [
    "dataframes = {arc: pd.read_csv(f\"data/processed_{arc}.csv\") for arc in [\"champs\", \"conv\", \"sts\"]}"
   ]
  },
  {
   "cell_type": "markdown",
   "metadata": {},
   "source": [
    "#### Sur Google Colab"
   ]
  },
  {
   "cell_type": "markdown",
   "metadata": {
    "id": "P_KqUoRl_We4"
   },
   "source": [
    "##### a. Import des fichiers\n",
    "\n",
    "Importer les fichiers \"processed_champs.csv\", \"processed_conv.csv\" et \"processed_sts.csv\" du dossier data."
   ]
  },
  {
   "cell_type": "code",
   "execution_count": 7,
   "metadata": {
    "colab": {
     "base_uri": "https://localhost:8080/",
     "height": 143,
     "resources": {
      "http://localhost:8080/nbextensions/google.colab/files.js": {
       "data": "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",
       "headers": [
        [
         "content-type",
         "application/javascript"
        ]
       ],
       "ok": true,
       "status": 200,
       "status_text": ""
      }
     }
    },
    "collapsed": true,
    "executionInfo": {
     "elapsed": 70432,
     "status": "ok",
     "timestamp": 1607703906398,
     "user": {
      "displayName": "Corentin Mary",
      "photoUrl": "",
      "userId": "05169774256575168334"
     },
     "user_tz": -60
    },
    "id": "gQdrfEF0_N0D",
    "outputId": "1a840f3a-8dbe-47a7-c824-dba4061e1741"
   },
   "outputs": [
    {
     "ename": "ModuleNotFoundError",
     "evalue": "No module named 'google.colab'",
     "output_type": "error",
     "traceback": [
      "\u001b[0;31m---------------------------------------------------------------------------\u001b[0m",
      "\u001b[0;31mModuleNotFoundError\u001b[0m                       Traceback (most recent call last)",
      "\u001b[0;32m<ipython-input-7-21dc3c638f66>\u001b[0m in \u001b[0;36m<module>\u001b[0;34m\u001b[0m\n\u001b[0;32m----> 1\u001b[0;31m \u001b[0;32mfrom\u001b[0m \u001b[0mgoogle\u001b[0m\u001b[0;34m.\u001b[0m\u001b[0mcolab\u001b[0m \u001b[0;32mimport\u001b[0m \u001b[0mfiles\u001b[0m\u001b[0;34m\u001b[0m\u001b[0;34m\u001b[0m\u001b[0m\n\u001b[0m\u001b[1;32m      2\u001b[0m \u001b[0muploaded\u001b[0m \u001b[0;34m=\u001b[0m \u001b[0mfiles\u001b[0m\u001b[0;34m.\u001b[0m\u001b[0mupload\u001b[0m\u001b[0;34m(\u001b[0m\u001b[0;34m)\u001b[0m\u001b[0;34m\u001b[0m\u001b[0;34m\u001b[0m\u001b[0m\n",
      "\u001b[0;31mModuleNotFoundError\u001b[0m: No module named 'google.colab'"
     ]
    }
   ],
   "source": [
    "from google.colab import files\n",
    "uploaded = files.upload()"
   ]
  },
  {
   "cell_type": "markdown",
   "metadata": {},
   "source": [
    "##### b. Lecture des données"
   ]
  },
  {
   "cell_type": "code",
   "execution_count": 3,
   "metadata": {
    "executionInfo": {
     "elapsed": 610,
     "status": "ok",
     "timestamp": 1607703937992,
     "user": {
      "displayName": "Corentin Mary",
      "photoUrl": "",
      "userId": "05169774256575168334"
     },
     "user_tz": -60
    },
    "id": "GSi1iHWDLMYm"
   },
   "outputs": [],
   "source": [
    "dataframes = {arc: pd.read_csv(f\"processed_{arc}.csv\") for arc in [\"champs\", \"conv\", \"sts\"]}"
   ]
  },
  {
   "cell_type": "markdown",
   "metadata": {
    "id": "BUqNv1-1OUS9"
   },
   "source": [
    "### Modèle"
   ]
  },
  {
   "cell_type": "code",
   "execution_count": 4,
   "metadata": {
    "executionInfo": {
     "elapsed": 852,
     "status": "ok",
     "timestamp": 1607703940128,
     "user": {
      "displayName": "Corentin Mary",
      "photoUrl": "",
      "userId": "05169774256575168334"
     },
     "user_tz": -60
    },
    "id": "ojZGOGOiOlpC"
   },
   "outputs": [],
   "source": [
    "class ProphetModel():\n",
    "\n",
    "    \"\"\" Prédicteur basé sur le modèle Prophet de Facebook.\"\"\"\n",
    "\n",
    "    def __init__(self, start_train, start_pred, end_pred, use_ext, seasonality):\n",
    "        \"\"\"\n",
    "        Arg(s):\n",
    "         - start_train: <pandas.Timestamp> date de début d'entraînement;        \n",
    "         - start_pred: <pandas.Timestamp> date de début de prédiction;\n",
    "         - end_pred: <pandas.Timestamp> date de fin de prédiction;\n",
    "         - use_ext: <bool> utiliser les variables exogènes ou non;\n",
    "         - seasonality: <str> type de saisonnalité à utiliser (\"additive\" ou \"multiplicative\").\n",
    "        \"\"\"\n",
    "        self.start_train = start_train\n",
    "        self.start_pred = start_pred \n",
    "        self.end_pred = end_pred\n",
    "        self.use_ext = use_ext\n",
    "        self.prophet = Prophet(seasonality_mode=seasonality)\n",
    "    \n",
    "\n",
    "    def prepare(self, data, target, date_column=\"date_heure\"):\n",
    "        \"\"\"\n",
    "        Prépare les données pour le modèle.\n",
    "        -------\n",
    "        Arg(s):\n",
    "         - data: <pandas.DataFrame> données de l'arc à prédire;\n",
    "         - target: <str> quantité à prédire;\n",
    "         - date_column: <str> colonne contenant les dates.\n",
    "        \"\"\"\n",
    "        self.target = target\n",
    "        if not self.use_ext:\n",
    "            self.df = data[[date_column, target]]\n",
    "            self.df.date_heure = pd.to_datetime(self.df.date_heure)\n",
    "            self.df.rename({\"date_heure\": \"ds\", target: \"y\"}, axis=1, inplace=True)\n",
    "        else:\n",
    "            self.df = data.drop([\"Unnamed: 0\", \"date\", \"debit\"*(target!=\"debit\") + \"taux\"*(target!=\"taux\")], axis=1)\n",
    "            self.df.date_heure = pd.to_datetime(self.df.date_heure)\n",
    "            self.df.rename({\"date_heure\": \"ds\", target: \"y\", \"holidays\": \"holidays_\"}, axis=1, inplace=True)\n",
    "        self.df.fillna(0, inplace=True)\n",
    "        self.df_train = self.df.loc[(self.df.ds>=self.start_train) & (self.df.ds<self.start_pred)]\n",
    "        self.df_test = self.df.loc[(self.df.ds>=self.start_pred) & (self.df.ds<=self.end_pred)]\n",
    "    \n",
    "\n",
    "    def fit(self):\n",
    "        if self.use_ext:\n",
    "            for col in self.df_train.columns:\n",
    "                if col not in [\"ds\", \"y\"]:\n",
    "                    self.prophet.add_regressor(col)\n",
    "        self.prophet.fit(self.df_train)\n",
    "    \n",
    "    \n",
    "    def predict(self):\n",
    "        future = self.df_test.drop(\"y\", axis=1)\n",
    "        self.forecast = self.prophet.predict(future)\n",
    "        self.y_pred = self.forecast.loc[(self.forecast.ds>=self.start_pred) & (self.forecast.ds<=self.end_pred)][[\"ds\", \"yhat\"]].rename({\"yhat\": self.target}, axis=1)\n",
    "        self.y_pred.loc[self.y_pred[self.target]<0, self.target] = 0\n",
    "        self.y_pred.set_index(\"ds\", inplace=True)\n",
    "\n",
    "        return self.y_pred\n",
    "\n",
    "    "
   ]
  },
  {
   "cell_type": "markdown",
   "metadata": {
    "id": "X2ojKMnEC77D"
   },
   "source": [
    "### Prédictions"
   ]
  },
  {
   "cell_type": "code",
   "execution_count": 5,
   "metadata": {
    "executionInfo": {
     "elapsed": 403,
     "status": "ok",
     "timestamp": 1607703941141,
     "user": {
      "displayName": "Corentin Mary",
      "photoUrl": "",
      "userId": "05169774256575168334"
     },
     "user_tz": -60
    },
    "id": "1fwNDYukD89i"
   },
   "outputs": [],
   "source": [
    "def run_forecast(start=START_FORECAST, end=END_FORECAST, params=PARAMS):\n",
    "    \"\"\"\n",
    "    Réalise la prédiction pour chaque arc sur la période souhaitée et avec les paramètres spécifiés.\n",
    "    \"\"\"\n",
    "\n",
    "    output = pd.DataFrame()\n",
    "\n",
    "    for arc in [\"champs\", \"conv\", \"sts\"]:\n",
    "        results = pd.DataFrame({\"Arc\": arc, \"Datetime\": pd.date_range(start, end, freq=\"H\")})\n",
    "\n",
    "        for target in [\"debit\", \"taux\"]:\n",
    "            print(f\"\\nForecasting '{target}' for '{arc}'\")\n",
    "            param = params[arc][target]\n",
    "            model = ProphetModel(param[\"training_start\"], start, end, param[\"use_ext\"], param[\"seasonality\"])\n",
    "            model.prepare(dataframes[arc], target)\n",
    "            model.fit()\n",
    "            y_pred = model.predict()\n",
    "            results[target] = y_pred.reset_index()[target]\n",
    "        \n",
    "        output = pd.concat([output, results], axis=0)\n",
    "\n",
    "    output.rename({\"debit\": \"Débit horaire\", \"taux\": \"Taux d'occupation\"}, axis=1, inplace=True)\n",
    "    output.replace({\"champs\": \"Champs-Elysées\", \"conv\": \"Convention\", \"sts\": \"Saints-Pères\"}, inplace=True)\n",
    "\n",
    "    return output"
   ]
  },
  {
   "cell_type": "code",
   "execution_count": 6,
   "metadata": {
    "colab": {
     "base_uri": "https://localhost:8080/",
     "height": 745
    },
    "executionInfo": {
     "elapsed": 49452,
     "status": "ok",
     "timestamp": 1607703991331,
     "user": {
      "displayName": "Corentin Mary",
      "photoUrl": "",
      "userId": "05169774256575168334"
     },
     "user_tz": -60
    },
    "id": "9aunLdpyM1V9",
    "outputId": "e79c7897-ae08-4d23-b051-198a14f562f1"
   },
   "outputs": [
    {
     "name": "stdout",
     "output_type": "stream",
     "text": [
      "\n",
      "Forecasting 'debit' for 'champs'\n"
     ]
    },
    {
     "name": "stderr",
     "output_type": "stream",
     "text": [
      "INFO:numexpr.utils:NumExpr defaulting to 8 threads.\n",
      "INFO:fbprophet:Disabling yearly seasonality. Run prophet with yearly_seasonality=True to override this.\n",
      "INFO:fbprophet:Disabling yearly seasonality. Run prophet with yearly_seasonality=True to override this.\n"
     ]
    },
    {
     "name": "stdout",
     "output_type": "stream",
     "text": [
      "\n",
      "Forecasting 'taux' for 'champs'\n"
     ]
    },
    {
     "name": "stderr",
     "output_type": "stream",
     "text": [
      "INFO:fbprophet:Disabling yearly seasonality. Run prophet with yearly_seasonality=True to override this.\n"
     ]
    },
    {
     "name": "stdout",
     "output_type": "stream",
     "text": [
      "\n",
      "Forecasting 'debit' for 'conv'\n"
     ]
    },
    {
     "name": "stderr",
     "output_type": "stream",
     "text": [
      "/Users/yassine/anaconda3/lib/python3.8/site-packages/pandas/core/generic.py:5303: SettingWithCopyWarning: \n",
      "A value is trying to be set on a copy of a slice from a DataFrame.\n",
      "Try using .loc[row_indexer,col_indexer] = value instead\n",
      "\n",
      "See the caveats in the documentation: https://pandas.pydata.org/pandas-docs/stable/user_guide/indexing.html#returning-a-view-versus-a-copy\n",
      "  self[name] = value\n",
      "/Users/yassine/anaconda3/lib/python3.8/site-packages/pandas/core/frame.py:4125: SettingWithCopyWarning: \n",
      "A value is trying to be set on a copy of a slice from a DataFrame\n",
      "\n",
      "See the caveats in the documentation: https://pandas.pydata.org/pandas-docs/stable/user_guide/indexing.html#returning-a-view-versus-a-copy\n",
      "  return super().rename(\n",
      "/Users/yassine/anaconda3/lib/python3.8/site-packages/pandas/core/frame.py:4147: SettingWithCopyWarning: \n",
      "A value is trying to be set on a copy of a slice from a DataFrame\n",
      "\n",
      "See the caveats in the documentation: https://pandas.pydata.org/pandas-docs/stable/user_guide/indexing.html#returning-a-view-versus-a-copy\n",
      "  return super().fillna(\n",
      "INFO:fbprophet:Disabling yearly seasonality. Run prophet with yearly_seasonality=True to override this.\n"
     ]
    },
    {
     "name": "stdout",
     "output_type": "stream",
     "text": [
      "\n",
      "Forecasting 'taux' for 'conv'\n"
     ]
    },
    {
     "name": "stderr",
     "output_type": "stream",
     "text": [
      "INFO:fbprophet:Disabling yearly seasonality. Run prophet with yearly_seasonality=True to override this.\n"
     ]
    },
    {
     "name": "stdout",
     "output_type": "stream",
     "text": [
      "\n",
      "Forecasting 'debit' for 'sts'\n"
     ]
    },
    {
     "name": "stderr",
     "output_type": "stream",
     "text": [
      "INFO:fbprophet:Disabling yearly seasonality. Run prophet with yearly_seasonality=True to override this.\n"
     ]
    },
    {
     "name": "stdout",
     "output_type": "stream",
     "text": [
      "\n",
      "Forecasting 'taux' for 'sts'\n"
     ]
    }
   ],
   "source": [
    "output = run_forecast()\n",
    "output.to_csv(\"prediction.csv\", index=False, encoding=\"utf-8\")"
   ]
  },
  {
   "cell_type": "code",
   "execution_count": null,
   "metadata": {
    "id": "_Lj9hKsun1Ib"
   },
   "outputs": [],
   "source": []
  }
 ],
 "metadata": {
  "colab": {
   "collapsed_sections": [],
   "name": "run_forecast.ipynb",
   "provenance": []
  },
  "kernelspec": {
   "display_name": "Python 3",
   "language": "python",
   "name": "python3"
  },
  "language_info": {
   "codemirror_mode": {
    "name": "ipython",
    "version": 3
   },
   "file_extension": ".py",
   "mimetype": "text/x-python",
   "name": "python",
   "nbconvert_exporter": "python",
   "pygments_lexer": "ipython3",
   "version": "3.8.3"
  }
 },
 "nbformat": 4,
 "nbformat_minor": 1
}
